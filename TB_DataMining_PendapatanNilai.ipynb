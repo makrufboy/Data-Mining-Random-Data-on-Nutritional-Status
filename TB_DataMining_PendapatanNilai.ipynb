{
 "cells": [
  {
   "cell_type": "code",
   "execution_count": 12,
   "metadata": {},
   "outputs": [],
   "source": [
    "# import pandas, random and numpy\n",
    "import pandas as pd\n",
    "from random import randint\n",
    "import numpy as np"
   ]
  },
  {
   "cell_type": "code",
   "execution_count": 48,
   "metadata": {},
   "outputs": [],
   "source": [
    "# Make random data\n",
    "def random_data(n):\n",
    "    data = []\n",
    "    cols = ['Suhu','Titik_Embun','Tekanan_Udara','Jarak_Pandang','Cuaca']\n",
    "    for i in range(n):\n",
    "        y = randint(1,3)\n",
    "        if y == 1:\n",
    "            a = randint(28,30)+float(randint(0,5)*0.1)\n",
    "            b = randint(27,30)+float(randint(0,2)*0.1)\n",
    "            c = 1000+randint(6,8)\n",
    "            d = randint(4,8)+float(randint(0,8)*0.1)\n",
    "        elif y == 2:\n",
    "            a = randint(25,28)+float(randint(0,8)*0.1)\n",
    "            b = randint(20,25)+float(randint(0,2)*0.1)\n",
    "            c = 1000+randint(8,15)\n",
    "            d = randint(8,10)+float(randint(0,8)*0.1)\n",
    "        elif y == 3:\n",
    "            a = randint(24,26)+float(randint(0,8)*0.1)\n",
    "            b = randint(25,26)+float(randint(0,2)*0.1)\n",
    "            c = 1000+randint(4,5)\n",
    "            d = randint(1,3)+float(randint(0,8)*0.1)\n",
    "        y = weighted(y)\n",
    "        data.append([a,b,c,d,y])\n",
    "    df = pd.DataFrame(data,columns=cols)\n",
    "    return df\n",
    "\n",
    "        \n",
    "def weighted(status):\n",
    "    if status == 1:\n",
    "        return \"Cerah\"\n",
    "    elif status == 2:\n",
    "        return \"Berawan\"\n",
    "    else:\n",
    "        return \"Hujan\""
   ]
  },
  {
   "cell_type": "code",
   "execution_count": 49,
   "metadata": {},
   "outputs": [
    {
     "data": {
      "text/html": [
       "<div>\n",
       "<style scoped>\n",
       "    .dataframe tbody tr th:only-of-type {\n",
       "        vertical-align: middle;\n",
       "    }\n",
       "\n",
       "    .dataframe tbody tr th {\n",
       "        vertical-align: top;\n",
       "    }\n",
       "\n",
       "    .dataframe thead th {\n",
       "        text-align: right;\n",
       "    }\n",
       "</style>\n",
       "<table border=\"1\" class=\"dataframe\">\n",
       "  <thead>\n",
       "    <tr style=\"text-align: right;\">\n",
       "      <th></th>\n",
       "      <th>Suhu</th>\n",
       "      <th>Titik_Embun</th>\n",
       "      <th>Tekanan_Udara</th>\n",
       "      <th>Jarak_Pandang</th>\n",
       "      <th>Cuaca</th>\n",
       "    </tr>\n",
       "  </thead>\n",
       "  <tbody>\n",
       "    <tr>\n",
       "      <th>0</th>\n",
       "      <td>29.4</td>\n",
       "      <td>29.1</td>\n",
       "      <td>1007</td>\n",
       "      <td>6.6</td>\n",
       "      <td>Cerah</td>\n",
       "    </tr>\n",
       "    <tr>\n",
       "      <th>1</th>\n",
       "      <td>25.3</td>\n",
       "      <td>26.2</td>\n",
       "      <td>1004</td>\n",
       "      <td>3.4</td>\n",
       "      <td>Hujan</td>\n",
       "    </tr>\n",
       "    <tr>\n",
       "      <th>2</th>\n",
       "      <td>28.7</td>\n",
       "      <td>20.1</td>\n",
       "      <td>1010</td>\n",
       "      <td>10.4</td>\n",
       "      <td>Berawan</td>\n",
       "    </tr>\n",
       "    <tr>\n",
       "      <th>3</th>\n",
       "      <td>25.2</td>\n",
       "      <td>26.2</td>\n",
       "      <td>1004</td>\n",
       "      <td>1.2</td>\n",
       "      <td>Hujan</td>\n",
       "    </tr>\n",
       "    <tr>\n",
       "      <th>4</th>\n",
       "      <td>29.1</td>\n",
       "      <td>29.1</td>\n",
       "      <td>1006</td>\n",
       "      <td>8.1</td>\n",
       "      <td>Cerah</td>\n",
       "    </tr>\n",
       "    <tr>\n",
       "      <th>...</th>\n",
       "      <td>...</td>\n",
       "      <td>...</td>\n",
       "      <td>...</td>\n",
       "      <td>...</td>\n",
       "      <td>...</td>\n",
       "    </tr>\n",
       "    <tr>\n",
       "      <th>495</th>\n",
       "      <td>27.5</td>\n",
       "      <td>21.2</td>\n",
       "      <td>1014</td>\n",
       "      <td>10.7</td>\n",
       "      <td>Berawan</td>\n",
       "    </tr>\n",
       "    <tr>\n",
       "      <th>496</th>\n",
       "      <td>24.8</td>\n",
       "      <td>25.0</td>\n",
       "      <td>1005</td>\n",
       "      <td>3.0</td>\n",
       "      <td>Hujan</td>\n",
       "    </tr>\n",
       "    <tr>\n",
       "      <th>497</th>\n",
       "      <td>28.0</td>\n",
       "      <td>27.1</td>\n",
       "      <td>1006</td>\n",
       "      <td>6.7</td>\n",
       "      <td>Cerah</td>\n",
       "    </tr>\n",
       "    <tr>\n",
       "      <th>498</th>\n",
       "      <td>30.2</td>\n",
       "      <td>29.1</td>\n",
       "      <td>1007</td>\n",
       "      <td>6.6</td>\n",
       "      <td>Cerah</td>\n",
       "    </tr>\n",
       "    <tr>\n",
       "      <th>499</th>\n",
       "      <td>27.0</td>\n",
       "      <td>23.1</td>\n",
       "      <td>1008</td>\n",
       "      <td>9.5</td>\n",
       "      <td>Berawan</td>\n",
       "    </tr>\n",
       "  </tbody>\n",
       "</table>\n",
       "<p>500 rows × 5 columns</p>\n",
       "</div>"
      ],
      "text/plain": [
       "     Suhu  Titik_Embun  Tekanan_Udara  Jarak_Pandang    Cuaca\n",
       "0    29.4         29.1           1007            6.6    Cerah\n",
       "1    25.3         26.2           1004            3.4    Hujan\n",
       "2    28.7         20.1           1010           10.4  Berawan\n",
       "3    25.2         26.2           1004            1.2    Hujan\n",
       "4    29.1         29.1           1006            8.1    Cerah\n",
       "..    ...          ...            ...            ...      ...\n",
       "495  27.5         21.2           1014           10.7  Berawan\n",
       "496  24.8         25.0           1005            3.0    Hujan\n",
       "497  28.0         27.1           1006            6.7    Cerah\n",
       "498  30.2         29.1           1007            6.6    Cerah\n",
       "499  27.0         23.1           1008            9.5  Berawan\n",
       "\n",
       "[500 rows x 5 columns]"
      ]
     },
     "execution_count": 49,
     "metadata": {},
     "output_type": "execute_result"
    }
   ],
   "source": [
    "# call function\n",
    "data = random_data(500)\n",
    "data"
   ]
  },
  {
   "cell_type": "code",
   "execution_count": 51,
   "metadata": {},
   "outputs": [
    {
     "name": "stdout",
     "output_type": "stream",
     "text": [
      "['Cerah' 'Hujan' 'Berawan']\n"
     ]
    }
   ],
   "source": [
    "print(data['Cuaca'].unique())"
   ]
  },
  {
   "cell_type": "code",
   "execution_count": 52,
   "metadata": {},
   "outputs": [
    {
     "name": "stdout",
     "output_type": "stream",
     "text": [
      "            Suhu  Titik_Embun  Tekanan_Udara  Jarak_Pandang\n",
      "count  500.00000   500.000000     500.000000     500.000000\n",
      "mean    27.20580    25.623000    1007.714000       6.150200\n",
      "std      1.87913     2.719522       3.267653       3.083127\n",
      "min     24.00000    20.000000    1004.000000       1.000000\n",
      "25%     25.60000    24.100000    1005.000000       3.200000\n",
      "50%     26.80000    26.000000    1007.000000       6.700000\n",
      "75%     28.80000    28.000000    1010.000000       8.800000\n",
      "max     30.50000    30.200000    1015.000000      10.800000\n"
     ]
    }
   ],
   "source": [
    "print(data.describe())"
   ]
  },
  {
   "cell_type": "code",
   "execution_count": 54,
   "metadata": {},
   "outputs": [
    {
     "name": "stdout",
     "output_type": "stream",
     "text": [
      "Cerah      172\n",
      "Berawan    166\n",
      "Hujan      162\n",
      "Name: Cuaca, dtype: int64\n"
     ]
    }
   ],
   "source": [
    "print(data['Cuaca'].value_counts())"
   ]
  }
 ],
 "metadata": {
  "kernelspec": {
   "display_name": "Python 3",
   "language": "python",
   "name": "python3"
  },
  "language_info": {
   "codemirror_mode": {
    "name": "ipython",
    "version": 3
   },
   "file_extension": ".py",
   "mimetype": "text/x-python",
   "name": "python",
   "nbconvert_exporter": "python",
   "pygments_lexer": "ipython3",
   "version": "3.8.3"
  }
 },
 "nbformat": 4,
 "nbformat_minor": 4
}
