{
 "cells": [
  {
   "cell_type": "code",
   "execution_count": 1,
   "metadata": {},
   "outputs": [],
   "source": [
    "# import pandas, random and numpy\n",
    "import pandas as pd\n",
    "from random import randint\n",
    "import numpy as np\n",
    "import matplotlib.pyplot as plt"
   ]
  },
  {
   "cell_type": "code",
   "execution_count": 2,
   "metadata": {},
   "outputs": [],
   "source": [
    "# Make random data\n",
    "def random_data(n):\n",
    "    data = []\n",
    "    cols = ['Smt1','Smt2','Smt3','Smt4','IPK','Status']\n",
    "    for i in range(n):\n",
    "        y = randint(0,1)\n",
    "        if y == 0:\n",
    "            a = float(randint(50, 75))/25\n",
    "            b = float(randint(50, 75))/25\n",
    "            c = float(randint(50, 75))/25\n",
    "            d = float(randint(50, 75))/25\n",
    "        else:\n",
    "            a = float(randint(75, 100))/25\n",
    "            b = float(randint(75, 100))/25\n",
    "            c = float(randint(75, 100))/25\n",
    "            d = float(randint(75, 100))/25\n",
    "        t = (a+b+c+d)/4\n",
    "        y = weighted(t)\n",
    "        data.append([a,b,c,d,t,y])\n",
    "    df = pd.DataFrame(data,columns=cols)\n",
    "    return df\n",
    "\n",
    "        \n",
    "def weighted(total):\n",
    "    if total < 2.6:\n",
    "        return \"tidak lulus\"\n",
    "    elif total >= 2.6 and total < 3.6:\n",
    "        return \"lulus\"\n",
    "    else:\n",
    "        return \"cumlaude\""
   ]
  },
  {
   "cell_type": "code",
   "execution_count": 3,
   "metadata": {},
   "outputs": [],
   "source": [
    "# call function\n",
    "data = random_data(500)"
   ]
  },
  {
   "cell_type": "code",
   "execution_count": 4,
   "metadata": {},
   "outputs": [
    {
     "name": "stdout",
     "output_type": "stream",
     "text": [
      "['obesitas' 'normal' 'kurang']\n"
     ]
    }
   ],
   "source": [
    "print(data['Status'].unique())"
   ]
  },
  {
   "cell_type": "code",
   "execution_count": 5,
   "metadata": {},
   "outputs": [
    {
     "name": "stdout",
     "output_type": "stream",
     "text": [
      "               TB          BB          LB          LP\n",
      "count  500.000000  500.000000  500.000000  500.000000\n",
      "mean   184.944000   74.624000   16.112000   90.418000\n",
      "std     15.894216   15.039648    2.544091   17.368552\n",
      "min    158.000000   50.000000   12.000000   60.000000\n",
      "25%    170.000000   62.000000   14.000000   75.000000\n",
      "50%    185.000000   73.000000   16.000000   92.000000\n",
      "75%    199.000000   88.250000   18.000000  105.000000\n",
      "max    210.000000  100.000000   20.000000  120.000000\n"
     ]
    }
   ],
   "source": [
    "print(data.describe())"
   ]
  },
  {
   "cell_type": "code",
   "execution_count": 6,
   "metadata": {},
   "outputs": [
    {
     "name": "stdout",
     "output_type": "stream",
     "text": [
      "normal      223\n",
      "obesitas    144\n",
      "kurang      133\n",
      "Name: Status, dtype: int64\n"
     ]
    }
   ],
   "source": [
    "print(data['Status'].value_counts())"
   ]
  },
  {
   "cell_type": "code",
   "execution_count": 8,
   "metadata": {},
   "outputs": [],
   "source": [
    "df = data[['TB','BB','LB','LP']].to_numpy()\n",
    "label = data['Status']"
   ]
  },
  {
   "cell_type": "code",
   "execution_count": 9,
   "metadata": {},
   "outputs": [],
   "source": [
    "from sklearn.model_selection import train_test_split\n",
    "train_x, test_x, train_y, test_y = train_test_split(df, label, test_size=0.10, random_state=12)"
   ]
  },
  {
   "cell_type": "code",
   "execution_count": 10,
   "metadata": {},
   "outputs": [
    {
     "name": "stdout",
     "output_type": "stream",
     "text": [
      "data train_x =>  [[174  71  17  69]\n",
      " [197  86  14 113]\n",
      " [183 100  14  77]\n",
      " ...\n",
      " [177  87  13 119]\n",
      " [163  85  16  84]\n",
      " [183  64  15 109]]\n",
      "data train_y =>  340      normal\n",
      "455      normal\n",
      "349    obesitas\n",
      "285      kurang\n",
      "398      kurang\n",
      "67     obesitas\n",
      "492      kurang\n",
      "35       kurang\n",
      "177    obesitas\n",
      "86     obesitas\n",
      "448    obesitas\n",
      "416      kurang\n",
      "411      normal\n",
      "151      kurang\n",
      "287      normal\n",
      "472      kurang\n",
      "301      normal\n",
      "21       normal\n",
      "195      kurang\n",
      "188      kurang\n",
      "37       normal\n",
      "452      normal\n",
      "462    obesitas\n",
      "279      kurang\n",
      "262      normal\n",
      "128    obesitas\n",
      "16       kurang\n",
      "272      normal\n",
      "200    obesitas\n",
      "29       normal\n",
      "         ...   \n",
      "100      normal\n",
      "446      normal\n",
      "291      normal\n",
      "89       normal\n",
      "82     obesitas\n",
      "269      normal\n",
      "204      normal\n",
      "104      normal\n",
      "373      kurang\n",
      "384      normal\n",
      "74     obesitas\n",
      "118    obesitas\n",
      "459      normal\n",
      "418      kurang\n",
      "473      normal\n",
      "141      kurang\n",
      "389      kurang\n",
      "436      kurang\n",
      "49       kurang\n",
      "278    obesitas\n",
      "432      kurang\n",
      "332      kurang\n",
      "451    obesitas\n",
      "259      kurang\n",
      "130      normal\n",
      "241    obesitas\n",
      "253      normal\n",
      "390    obesitas\n",
      "155    obesitas\n",
      "331      normal\n",
      "Name: Status, Length: 450, dtype: object\n",
      "data test_x =>  [[167  79  12  73]\n",
      " [204  70  19  94]\n",
      " [195  97  17  85]\n",
      " [199  68  14  91]\n",
      " [197  94  14  72]\n",
      " [184  69  17  75]\n",
      " [163  59  20 110]\n",
      " [192  80  17  83]\n",
      " [180  95  18  85]\n",
      " [191  97  16  72]\n",
      " [166 100  12  82]\n",
      " [201  91  15  97]\n",
      " [181  80  19  89]\n",
      " [194  82  18 100]\n",
      " [188  73  15  93]\n",
      " [206  87  14  86]\n",
      " [193  79  20 112]\n",
      " [161  81  15 115]\n",
      " [195  71  12 113]\n",
      " [161  95  14 116]\n",
      " [161  51  14 107]\n",
      " [182  78  13  70]\n",
      " [181  55  15  77]\n",
      " [206  96  15  62]\n",
      " [194  64  13  61]\n",
      " [192  60  17 117]\n",
      " [203  58  12 117]\n",
      " [179  65  15  65]\n",
      " [208  98  16  98]\n",
      " [186  92  14  85]\n",
      " [199  56  15  73]\n",
      " [165  51  17  63]\n",
      " [190  72  15  90]\n",
      " [197  95  20 104]\n",
      " [170  56  19 120]\n",
      " [190  90  12 108]\n",
      " [168  57  18  84]\n",
      " [205  72  13 116]\n",
      " [190  87  17  71]\n",
      " [173  75  19  64]\n",
      " [199  84  16 108]\n",
      " [166  71  17  75]\n",
      " [180  70  15  87]\n",
      " [205  77  18  97]\n",
      " [182  78  20  94]\n",
      " [179  57  19  78]\n",
      " [183  61  20  75]\n",
      " [196  80  15  82]\n",
      " [166  66  17  99]\n",
      " [172  81  15  83]]\n",
      "data testy_ =>  475    obesitas\n",
      "385      kurang\n",
      "167    obesitas\n",
      "40       kurang\n",
      "350      normal\n",
      "42       normal\n",
      "250      normal\n",
      "469      normal\n",
      "6      obesitas\n",
      "159    obesitas\n",
      "14     obesitas\n",
      "499      normal\n",
      "207      normal\n",
      "362      normal\n",
      "339      normal\n",
      "266      normal\n",
      "255      normal\n",
      "403    obesitas\n",
      "206      normal\n",
      "305    obesitas\n",
      "44       normal\n",
      "361      normal\n",
      "289      kurang\n",
      "214      normal\n",
      "426      kurang\n",
      "369      kurang\n",
      "430      kurang\n",
      "360      normal\n",
      "341      normal\n",
      "94     obesitas\n",
      "280      kurang\n",
      "313      normal\n",
      "11       normal\n",
      "169      normal\n",
      "168      normal\n",
      "1        normal\n",
      "381      normal\n",
      "323      kurang\n",
      "85       normal\n",
      "406    obesitas\n",
      "101      normal\n",
      "254    obesitas\n",
      "493      normal\n",
      "69       normal\n",
      "288      normal\n",
      "234      kurang\n",
      "477      normal\n",
      "359      normal\n",
      "383      normal\n",
      "405    obesitas\n",
      "Name: Status, dtype: object\n"
     ]
    }
   ],
   "source": [
    "print (\"data train_x => \", train_x)\n",
    "print (\"data train_y => \", train_y)\n",
    "print (\"data test_x => \", test_x)\n",
    "print (\"data testy_ => \",test_y)"
   ]
  },
  {
   "cell_type": "markdown",
   "metadata": {},
   "source": [
    "Clasifikasi KNN "
   ]
  },
  {
   "cell_type": "code",
   "execution_count": 11,
   "metadata": {},
   "outputs": [],
   "source": [
    "from sklearn.neighbors import KNeighborsClassifier\n",
    "clf = KNeighborsClassifier(n_neighbors=3)\n",
    "clf.fit(train_x,train_y)\n",
    "pred_y = clf.predict(test_x)"
   ]
  },
  {
   "cell_type": "code",
   "execution_count": 12,
   "metadata": {},
   "outputs": [
    {
     "name": "stdout",
     "output_type": "stream",
     "text": [
      "[167  79  12  73]  ditebak =>  obesitas\n",
      "[204  70  19  94]  ditebak =>  kurang\n",
      "[195  97  17  85]  ditebak =>  obesitas\n",
      "[199  68  14  91]  ditebak =>  kurang\n",
      "[197  94  14  72]  ditebak =>  normal\n",
      "[184  69  17  75]  ditebak =>  normal\n",
      "[163  59  20 110]  ditebak =>  normal\n",
      "[192  80  17  83]  ditebak =>  normal\n",
      "[180  95  18  85]  ditebak =>  obesitas\n",
      "[191  97  16  72]  ditebak =>  normal\n",
      "[166 100  12  82]  ditebak =>  obesitas\n",
      "[201  91  15  97]  ditebak =>  normal\n",
      "[181  80  19  89]  ditebak =>  normal\n",
      "[194  82  18 100]  ditebak =>  normal\n",
      "[188  73  15  93]  ditebak =>  normal\n",
      "[206  87  14  86]  ditebak =>  normal\n",
      "[193  79  20 112]  ditebak =>  normal\n",
      "[161  81  15 115]  ditebak =>  obesitas\n",
      "[195  71  12 113]  ditebak =>  normal\n",
      "[161  95  14 116]  ditebak =>  obesitas\n",
      "[161  51  14 107]  ditebak =>  normal\n",
      "[182  78  13  70]  ditebak =>  normal\n",
      "[181  55  15  77]  ditebak =>  kurang\n",
      "[206  96  15  62]  ditebak =>  normal\n",
      "[194  64  13  61]  ditebak =>  kurang\n",
      "[192  60  17 117]  ditebak =>  kurang\n",
      "[203  58  12 117]  ditebak =>  kurang\n",
      "[179  65  15  65]  ditebak =>  normal\n",
      "[208  98  16  98]  ditebak =>  normal\n",
      "[186  92  14  85]  ditebak =>  obesitas\n",
      "[199  56  15  73]  ditebak =>  kurang\n",
      "[165  51  17  63]  ditebak =>  normal\n",
      "[190  72  15  90]  ditebak =>  normal\n",
      "[197  95  20 104]  ditebak =>  normal\n",
      "[170  56  19 120]  ditebak =>  kurang\n",
      "[190  90  12 108]  ditebak =>  obesitas\n",
      "[168  57  18  84]  ditebak =>  normal\n",
      "[205  72  13 116]  ditebak =>  kurang\n",
      "[190  87  17  71]  ditebak =>  normal\n",
      "[173  75  19  64]  ditebak =>  normal\n",
      "[199  84  16 108]  ditebak =>  normal\n",
      "[166  71  17  75]  ditebak =>  obesitas\n",
      "[180  70  15  87]  ditebak =>  normal\n",
      "[205  77  18  97]  ditebak =>  normal\n",
      "[182  78  20  94]  ditebak =>  normal\n",
      "[179  57  19  78]  ditebak =>  kurang\n",
      "[183  61  20  75]  ditebak =>  kurang\n",
      "[196  80  15  82]  ditebak =>  normal\n",
      "[166  66  17  99]  ditebak =>  normal\n",
      "[172  81  15  83]  ditebak =>  obesitas\n"
     ]
    }
   ],
   "source": [
    "# menampilkan hasil tebakan berdasarkan data test\n",
    "from sklearn.metrics import accuracy_score\n",
    "for i in range (len(test_x)):\n",
    "    print (test_x[i], \" ditebak => \",clf.predict(test_x)[i])"
   ]
  },
  {
   "cell_type": "code",
   "execution_count": 13,
   "metadata": {},
   "outputs": [
    {
     "name": "stdout",
     "output_type": "stream",
     "text": [
      "0.9\n"
     ]
    }
   ],
   "source": [
    "score = accuracy_score(test_y,pred_y)\n",
    "print(score)"
   ]
  },
  {
   "cell_type": "code",
   "execution_count": 14,
   "metadata": {},
   "outputs": [],
   "source": [
    "akurasiTrain=clf.score(train_x,train_y)"
   ]
  },
  {
   "cell_type": "code",
   "execution_count": 19,
   "metadata": {},
   "outputs": [],
   "source": [
    "akurasiTest=clf.score(test_x,test_y)"
   ]
  },
  {
   "cell_type": "code",
   "execution_count": 20,
   "metadata": {},
   "outputs": [
    {
     "data": {
      "image/png": "[encoded data removed]",
      "text/plain": [
       "<Figure size 432x288 with 1 Axes>"
      ]
     },
     "metadata": {
      "needs_background": "light"
     },
     "output_type": "display_data"
    }
   ],
   "source": [
    "plt.title('k-NN: Varying Number of Neighbors')\n",
    "plt.plot(akurasiTest, label = 'Testing Accuracy')\n",
    "plt.plot(akurasiTrain, label = 'Training Accuracy')\n",
    "plt.legend()\n",
    "plt.xlabel('Number of Neighbors')\n",
    "plt.ylabel('Accuracy')\n",
    "plt.show()"
   ]
  },
  {
   "cell_type": "code",
   "execution_count": null,
   "metadata": {},
   "outputs": [],
   "source": []
  }
 ],
 "metadata": {
  "kernelspec": {
   "display_name": "Python 3",
   "language": "python",
   "name": "python3"
  },
  "language_info": {
   "codemirror_mode": {
    "name": "ipython",
    "version": 3
   },
   "file_extension": ".py",
   "mimetype": "text/x-python",
   "name": "python",
   "nbconvert_exporter": "python",
   "pygments_lexer": "ipython3",
   "version": "3.7.3"
  }
 },
 "nbformat": 4,
 "nbformat_minor": 4
}
