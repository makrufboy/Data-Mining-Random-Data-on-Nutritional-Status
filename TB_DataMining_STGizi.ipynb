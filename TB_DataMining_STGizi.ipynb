{
 "cells": [
  {
   "cell_type": "code",
   "execution_count": 1,
   "metadata": {},
   "outputs": [],
   "source": [
    "# import pandas, random and numpy\n",
    "import pandas as pd\n",
    "from random import randint\n",
    "import numpy as np"
   ]
  },
  {
   "cell_type": "code",
   "execution_count": 48,
   "metadata": {},
   "outputs": [],
   "source": [
    "# Make random data\n",
    "def random_data(n):\n",
    "    data = []\n",
    "    cols = ['TB','BB','LB','LP','Status']\n",
    "    for i in range(n):\n",
    "        a = randint(158,210)\n",
    "        b = randint(50,100)\n",
    "        c = randint(12,20)\n",
    "        d = randint(60,120)\n",
    "        y = weight(a,b)\n",
    "        data.append([a,b,c,d,y])\n",
    "    df = pd.DataFrame(data,columns=cols)\n",
    "    return df\n",
    "\n",
    "        \n",
    "def weight(a,b):\n",
    "    tinggi = a/100\n",
    "    count = b/tinggi**2\n",
    "    if(count<18):\n",
    "        return 'kurang'\n",
    "    elif(count>=18 and count<25):\n",
    "        return 'normal'\n",
    "    elif(count>=25):\n",
    "        return 'obesitas'"
   ]
  },
  {
   "cell_type": "code",
   "execution_count": 49,
   "metadata": {},
   "outputs": [],
   "source": [
    "# call function\n",
    "data = random_data(500)"
   ]
  },
  {
   "cell_type": "code",
   "execution_count": 50,
   "metadata": {},
   "outputs": [
    {
     "name": "stdout",
     "output_type": "stream",
     "text": [
      "['kurang' 'normal' 'obesitas']\n"
     ]
    }
   ],
   "source": [
    "print(data['Status'].unique())"
   ]
  },
  {
   "cell_type": "code",
   "execution_count": 51,
   "metadata": {},
   "outputs": [
    {
     "name": "stdout",
     "output_type": "stream",
     "text": [
      "              TB          BB          LB          LP\n",
      "count  500.00000  500.000000  500.000000  500.000000\n",
      "mean   183.90800   74.580000   15.854000   90.234000\n",
      "std     15.48519   14.726756    2.610424   17.143601\n",
      "min    158.00000   50.000000   12.000000   60.000000\n",
      "25%    171.00000   62.000000   13.000000   76.000000\n",
      "50%    184.00000   74.000000   16.000000   91.000000\n",
      "75%    197.00000   87.000000   18.000000  104.000000\n",
      "max    210.00000  100.000000   20.000000  120.000000\n"
     ]
    }
   ],
   "source": [
    "print(data.describe())"
   ]
  },
  {
   "cell_type": "code",
   "execution_count": 52,
   "metadata": {},
   "outputs": [
    {
     "name": "stdout",
     "output_type": "stream",
     "text": [
      "normal      213\n",
      "obesitas    159\n",
      "kurang      128\n",
      "Name: Status, dtype: int64\n"
     ]
    }
   ],
   "source": [
    "print(data['Status'].value_counts())"
   ]
  },
  {
   "cell_type": "code",
   "execution_count": null,
   "metadata": {},
   "outputs": [],
   "source": []
  }
 ],
 "metadata": {
  "kernelspec": {
   "display_name": "Python 3",
   "language": "python",
   "name": "python3"
  },
  "language_info": {
   "codemirror_mode": {
    "name": "ipython",
    "version": 3
   },
   "file_extension": ".py",
   "mimetype": "text/x-python",
   "name": "python",
   "nbconvert_exporter": "python",
   "pygments_lexer": "ipython3",
   "version": "3.8.3"
  }
 },
 "nbformat": 4,
 "nbformat_minor": 4
}
