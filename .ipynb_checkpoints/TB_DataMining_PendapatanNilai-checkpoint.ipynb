{
 "cells": [
  {
   "cell_type": "code",
   "execution_count": 3,
   "metadata": {},
   "outputs": [],
   "source": [
    "# import pandas, random and numpy\n",
    "import pandas as pd\n",
    "from random import randint\n",
    "import numpy as np\n",
    "import seaborn as sns\n",
    "import matplotlib.pyplot as plt\n",
    "%matplotlib inline"
   ]
  },
  {
   "cell_type": "code",
   "execution_count": 4,
   "metadata": {},
   "outputs": [],
   "source": [
    "# Make random data\n",
    "def random_data(n):\n",
    "    data = []\n",
    "    cols = ['Suhu','Titik_Embun','Tekanan_Udara','Jarak_Pandang','Cuaca']\n",
    "    for i in range(n):\n",
    "        y = randint(1,3)\n",
    "        if y == 1:\n",
    "            a = randint(28,30)+float(randint(0,5)*0.1)\n",
    "            b = randint(27,30)+float(randint(0,2)*0.1)\n",
    "            c = 1000+randint(6,8)\n",
    "            d = randint(4,8)+float(randint(0,8)*0.1)\n",
    "        elif y == 2:\n",
    "            a = randint(25,28)+float(randint(0,8)*0.1)\n",
    "            b = randint(20,25)+float(randint(0,2)*0.1)\n",
    "            c = 1000+randint(8,15)\n",
    "            d = randint(8,10)+float(randint(0,8)*0.1)\n",
    "        elif y == 3:\n",
    "            a = randint(24,26)+float(randint(0,8)*0.1)\n",
    "            b = randint(25,26)+float(randint(0,2)*0.1)\n",
    "            c = 1000+randint(4,5)\n",
    "            d = randint(1,3)+float(randint(0,8)*0.1)\n",
    "        y = weighted(y)\n",
    "        data.append([a,b,c,d,y])\n",
    "    df = pd.DataFrame(data,columns=cols)\n",
    "    return df\n",
    "\n",
    "        \n",
    "def weighted(status):\n",
    "    if status == 1:\n",
    "        return \"Cerah\"\n",
    "    elif status == 2:\n",
    "        return \"Berawan\"\n",
    "    else:\n",
    "        return \"Hujan\""
   ]
  },
  {
   "cell_type": "code",
   "execution_count": 5,
   "metadata": {},
   "outputs": [],
   "source": [
    "# call function\n",
    "data = random_data(500)"
   ]
  },
  {
   "cell_type": "code",
   "execution_count": 6,
   "metadata": {},
   "outputs": [
    {
     "data": {
      "image/png": "[encoded data removed]",
      "text/plain": [
       "<Figure size 439.875x360 with 1 Axes>"
      ]
     },
     "metadata": {
      "needs_background": "light"
     },
     "output_type": "display_data"
    }
   ],
   "source": [
    "sns.relplot(x=\"Titik_Embun\", y=\"Tekanan_Udara\", hue=\"Cuaca\", data=data);"
   ]
  },
  {
   "cell_type": "code",
   "execution_count": 7,
   "metadata": {},
   "outputs": [
    {
     "name": "stdout",
     "output_type": "stream",
     "text": [
      "['Cerah' 'Hujan' 'Berawan']\n"
     ]
    }
   ],
   "source": [
    "print(data['Cuaca'].unique())"
   ]
  },
  {
   "cell_type": "code",
   "execution_count": 8,
   "metadata": {},
   "outputs": [
    {
     "name": "stdout",
     "output_type": "stream",
     "text": [
      "             Suhu  Titik_Embun  Tekanan_Udara  Jarak_Pandang\n",
      "count  500.000000   500.000000     500.000000     500.000000\n",
      "mean    27.282000    25.495000    1007.930000       6.256400\n",
      "std      1.890562     2.855076       3.235744       2.917025\n",
      "min     24.000000    20.000000    1004.000000       1.000000\n",
      "25%     25.600000    24.000000    1005.000000       3.500000\n",
      "50%     27.150000    25.200000    1007.000000       6.600000\n",
      "75%     28.800000    28.000000    1010.000000       8.700000\n",
      "max     30.500000    30.200000    1015.000000      10.700000\n"
     ]
    }
   ],
   "source": [
    "print(data.describe())"
   ]
  },
  {
   "cell_type": "code",
   "execution_count": 9,
   "metadata": {},
   "outputs": [
    {
     "name": "stdout",
     "output_type": "stream",
     "text": [
      "Berawan    179\n",
      "Cerah      177\n",
      "Hujan      144\n",
      "Name: Cuaca, dtype: int64\n"
     ]
    }
   ],
   "source": [
    "print(data['Cuaca'].value_counts())"
   ]
  },
  {
   "cell_type": "code",
   "execution_count": 10,
   "metadata": {},
   "outputs": [
    {
     "data": {
      "text/html": [
       "<div>\n",
       "<style scoped>\n",
       "    .dataframe tbody tr th:only-of-type {\n",
       "        vertical-align: middle;\n",
       "    }\n",
       "\n",
       "    .dataframe tbody tr th {\n",
       "        vertical-align: top;\n",
       "    }\n",
       "\n",
       "    .dataframe thead th {\n",
       "        text-align: right;\n",
       "    }\n",
       "</style>\n",
       "<table border=\"1\" class=\"dataframe\">\n",
       "  <thead>\n",
       "    <tr style=\"text-align: right;\">\n",
       "      <th></th>\n",
       "      <th>Suhu</th>\n",
       "      <th>Titik_Embun</th>\n",
       "      <th>Tekanan_Udara</th>\n",
       "      <th>Jarak_Pandang</th>\n",
       "      <th>Cuaca</th>\n",
       "    </tr>\n",
       "  </thead>\n",
       "  <tbody>\n",
       "    <tr>\n",
       "      <th>0</th>\n",
       "      <td>30.3</td>\n",
       "      <td>30.0</td>\n",
       "      <td>1006</td>\n",
       "      <td>8.5</td>\n",
       "      <td>Cerah</td>\n",
       "    </tr>\n",
       "    <tr>\n",
       "      <th>1</th>\n",
       "      <td>26.7</td>\n",
       "      <td>25.2</td>\n",
       "      <td>1004</td>\n",
       "      <td>3.8</td>\n",
       "      <td>Hujan</td>\n",
       "    </tr>\n",
       "    <tr>\n",
       "      <th>2</th>\n",
       "      <td>24.0</td>\n",
       "      <td>25.2</td>\n",
       "      <td>1004</td>\n",
       "      <td>1.4</td>\n",
       "      <td>Hujan</td>\n",
       "    </tr>\n",
       "    <tr>\n",
       "      <th>3</th>\n",
       "      <td>29.0</td>\n",
       "      <td>29.0</td>\n",
       "      <td>1008</td>\n",
       "      <td>8.5</td>\n",
       "      <td>Cerah</td>\n",
       "    </tr>\n",
       "    <tr>\n",
       "      <th>4</th>\n",
       "      <td>26.0</td>\n",
       "      <td>26.1</td>\n",
       "      <td>1005</td>\n",
       "      <td>2.8</td>\n",
       "      <td>Hujan</td>\n",
       "    </tr>\n",
       "  </tbody>\n",
       "</table>\n",
       "</div>"
      ],
      "text/plain": [
       "   Suhu  Titik_Embun  Tekanan_Udara  Jarak_Pandang  Cuaca\n",
       "0  30.3         30.0           1006            8.5  Cerah\n",
       "1  26.7         25.2           1004            3.8  Hujan\n",
       "2  24.0         25.2           1004            1.4  Hujan\n",
       "3  29.0         29.0           1008            8.5  Cerah\n",
       "4  26.0         26.1           1005            2.8  Hujan"
      ]
     },
     "execution_count": 10,
     "metadata": {},
     "output_type": "execute_result"
    }
   ],
   "source": [
    "data.head()"
   ]
  },
  {
   "cell_type": "code",
   "execution_count": 11,
   "metadata": {},
   "outputs": [],
   "source": [
    "df = data[['Suhu','Titik_Embun','Tekanan_Udara','Jarak_Pandang']]"
   ]
  },
  {
   "cell_type": "code",
   "execution_count": 12,
   "metadata": {},
   "outputs": [],
   "source": [
    "label = data ['Cuaca']"
   ]
  },
  {
   "cell_type": "code",
   "execution_count": 13,
   "metadata": {},
   "outputs": [
    {
     "data": {
      "text/html": [
       "<div>\n",
       "<style scoped>\n",
       "    .dataframe tbody tr th:only-of-type {\n",
       "        vertical-align: middle;\n",
       "    }\n",
       "\n",
       "    .dataframe tbody tr th {\n",
       "        vertical-align: top;\n",
       "    }\n",
       "\n",
       "    .dataframe thead th {\n",
       "        text-align: right;\n",
       "    }\n",
       "</style>\n",
       "<table border=\"1\" class=\"dataframe\">\n",
       "  <thead>\n",
       "    <tr style=\"text-align: right;\">\n",
       "      <th></th>\n",
       "      <th>Suhu</th>\n",
       "      <th>Titik_Embun</th>\n",
       "      <th>Tekanan_Udara</th>\n",
       "      <th>Jarak_Pandang</th>\n",
       "    </tr>\n",
       "  </thead>\n",
       "  <tbody>\n",
       "    <tr>\n",
       "      <th>0</th>\n",
       "      <td>30.3</td>\n",
       "      <td>30.0</td>\n",
       "      <td>1006</td>\n",
       "      <td>8.5</td>\n",
       "    </tr>\n",
       "    <tr>\n",
       "      <th>1</th>\n",
       "      <td>26.7</td>\n",
       "      <td>25.2</td>\n",
       "      <td>1004</td>\n",
       "      <td>3.8</td>\n",
       "    </tr>\n",
       "    <tr>\n",
       "      <th>2</th>\n",
       "      <td>24.0</td>\n",
       "      <td>25.2</td>\n",
       "      <td>1004</td>\n",
       "      <td>1.4</td>\n",
       "    </tr>\n",
       "    <tr>\n",
       "      <th>3</th>\n",
       "      <td>29.0</td>\n",
       "      <td>29.0</td>\n",
       "      <td>1008</td>\n",
       "      <td>8.5</td>\n",
       "    </tr>\n",
       "    <tr>\n",
       "      <th>4</th>\n",
       "      <td>26.0</td>\n",
       "      <td>26.1</td>\n",
       "      <td>1005</td>\n",
       "      <td>2.8</td>\n",
       "    </tr>\n",
       "  </tbody>\n",
       "</table>\n",
       "</div>"
      ],
      "text/plain": [
       "   Suhu  Titik_Embun  Tekanan_Udara  Jarak_Pandang\n",
       "0  30.3         30.0           1006            8.5\n",
       "1  26.7         25.2           1004            3.8\n",
       "2  24.0         25.2           1004            1.4\n",
       "3  29.0         29.0           1008            8.5\n",
       "4  26.0         26.1           1005            2.8"
      ]
     },
     "execution_count": 13,
     "metadata": {},
     "output_type": "execute_result"
    }
   ],
   "source": [
    "df.head()"
   ]
  },
  {
   "cell_type": "code",
   "execution_count": 45,
   "metadata": {},
   "outputs": [],
   "source": [
    "from sklearn.model_selection import train_test_split\n",
    "from sklearn.neighbors import KNeighborsClassifier\n",
    "from sklearn.metrics import accuracy_score\n",
    "from sklearn.metrics import balanced_accuracy_score\n",
    "from sklearn.metrics import precision_recall_fscore_support\n",
    "from sklearn.metrics import confusion_matrix"
   ]
  },
  {
   "cell_type": "code",
   "execution_count": 15,
   "metadata": {},
   "outputs": [],
   "source": [
    "train_x, test_x, train_y, test_y = train_test_split(df, label, test_size=0.10)"
   ]
  },
  {
   "cell_type": "code",
   "execution_count": 36,
   "metadata": {},
   "outputs": [
    {
     "data": {
      "text/plain": [
       "KNeighborsClassifier(algorithm='auto', leaf_size=30, metric='minkowski',\n",
       "                     metric_params=None, n_jobs=None, n_neighbors=10, p=2,\n",
       "                     weights='uniform')"
      ]
     },
     "execution_count": 36,
     "metadata": {},
     "output_type": "execute_result"
    }
   ],
   "source": [
    "clf = KNeighborsClassifier(n_neighbors=10)\n",
    "clf.fit(train_x, train_y)"
   ]
  },
  {
   "cell_type": "code",
   "execution_count": 37,
   "metadata": {},
   "outputs": [],
   "source": [
    "pred_y = clf.predict(test_x)"
   ]
  },
  {
   "cell_type": "code",
   "execution_count": 38,
   "metadata": {},
   "outputs": [
    {
     "name": "stdout",
     "output_type": "stream",
     "text": [
      "['Berawan' 'Hujan' 'Berawan' 'Berawan' 'Cerah' 'Cerah' 'Berawan' 'Hujan'\n",
      " 'Cerah' 'Cerah' 'Berawan' 'Cerah' 'Berawan' 'Berawan' 'Cerah' 'Berawan'\n",
      " 'Hujan' 'Cerah' 'Cerah' 'Hujan' 'Berawan' 'Hujan' 'Berawan' 'Berawan'\n",
      " 'Berawan' 'Hujan' 'Berawan' 'Hujan' 'Cerah' 'Hujan' 'Hujan' 'Berawan'\n",
      " 'Hujan' 'Hujan' 'Cerah' 'Berawan' 'Hujan' 'Cerah' 'Cerah' 'Cerah'\n",
      " 'Berawan' 'Hujan' 'Berawan' 'Cerah' 'Berawan' 'Hujan' 'Berawan' 'Berawan'\n",
      " 'Hujan' 'Cerah']\n"
     ]
    }
   ],
   "source": [
    "print (pred_y)"
   ]
  },
  {
   "cell_type": "code",
   "execution_count": 39,
   "metadata": {},
   "outputs": [],
   "source": [
    "index = test_x.index.tolist()"
   ]
  },
  {
   "cell_type": "code",
   "execution_count": 40,
   "metadata": {},
   "outputs": [],
   "source": [
    "# for i in range (len(index)):\n",
    "#     print (index[i])"
   ]
  },
  {
   "cell_type": "code",
   "execution_count": 41,
   "metadata": {},
   "outputs": [
    {
     "name": "stdout",
     "output_type": "stream",
     "text": [
      "1.0\n"
     ]
    }
   ],
   "source": [
    "score = accuracy_score(test_y,pred_y)\n",
    "print(score)"
   ]
  },
  {
   "cell_type": "code",
   "execution_count": 42,
   "metadata": {},
   "outputs": [
    {
     "name": "stdout",
     "output_type": "stream",
     "text": [
      "1.0\n"
     ]
    }
   ],
   "source": [
    "akurasiTrain=clf.score(train_x,train_y)\n",
    "print (akurasiTrain)"
   ]
  },
  {
   "cell_type": "code",
   "execution_count": 43,
   "metadata": {},
   "outputs": [
    {
     "name": "stdout",
     "output_type": "stream",
     "text": [
      "1.0\n"
     ]
    }
   ],
   "source": [
    "akurasiTest=clf.score(test_x,test_y)\n",
    "print (akurasiTest)"
   ]
  },
  {
   "cell_type": "code",
   "execution_count": 35,
   "metadata": {},
   "outputs": [],
   "source": [
    "hasilAkurasi = []\n",
    "for i in range (1,11):\n",
    "    clf = KNeighborsClassifier(n_neighbors=i)\n",
    "    clf.fit(train_x, train_y)\n",
    "    pred_y = clf.predict(test_x)\n",
    "    akurasiTest=accuracy_score(test_y,pred_y)\n",
    "    hasilAkurasi.append(akurasiTest)"
   ]
  },
  {
   "cell_type": "code",
   "execution_count": 32,
   "metadata": {},
   "outputs": [
    {
     "name": "stdout",
     "output_type": "stream",
     "text": [
      "[1.0, 1.0, 1.0, 1.0, 1.0, 1.0, 1.0, 1.0, 1.0, 1.0]\n"
     ]
    }
   ],
   "source": [
    "print (hasilAkurasi)"
   ]
  },
  {
   "cell_type": "code",
   "execution_count": 33,
   "metadata": {},
   "outputs": [
    {
     "data": {
      "image/png": "[encoded data removed]",
      "text/plain": [
       "<Figure size 432x288 with 1 Axes>"
      ]
     },
     "metadata": {
      "needs_background": "light"
     },
     "output_type": "display_data"
    }
   ],
   "source": [
    "plt.plot(hasilAkurasi)\n",
    "plt.ylabel('nilai akurasi')\n",
    "plt.xlabel('nilai K')\n",
    "plt.xticks(np.arange(10),('1','2','3','4','5','6','7','8','9','10'))\n",
    "plt.show()"
   ]
  },
  {
   "cell_type": "code",
   "execution_count": 48,
   "metadata": {},
   "outputs": [
    {
     "name": "stdout",
     "output_type": "stream",
     "text": [
      "Balanced Accuracy : 1.0\n",
      "Confusion Matrix :\n",
      " [[20  0  0]\n",
      " [ 0 15  0]\n",
      " [ 0  0 15]]\n",
      "Precision, Recall, F1 Score : (1.0, 1.0, 1.0, None)\n"
     ]
    }
   ],
   "source": [
    "print(\"Balanced Accuracy :\",balanced_accuracy_score(test_y,pred_y))\n",
    "print(\"Confusion Matrix :\\n\",confusion_matrix(test_y,pred_y))\n",
    "print(\"Precision, Recall, F1 Score :\",precision_recall_fscore_support(test_y,pred_y, average='macro'))"
   ]
  },
  {
   "cell_type": "code",
   "execution_count": null,
   "metadata": {},
   "outputs": [],
   "source": []
  }
 ],
 "metadata": {
  "kernelspec": {
   "display_name": "Python 3",
   "language": "python",
   "name": "python3"
  },
  "language_info": {
   "codemirror_mode": {
    "name": "ipython",
    "version": 3
   },
   "file_extension": ".py",
   "mimetype": "text/x-python",
   "name": "python",
   "nbconvert_exporter": "python",
   "pygments_lexer": "ipython3",
   "version": "3.7.3"
  }
 },
 "nbformat": 4,
 "nbformat_minor": 4
}
